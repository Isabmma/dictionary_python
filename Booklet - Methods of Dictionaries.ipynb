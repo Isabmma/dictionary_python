{
 "cells": [
  {
   "cell_type": "markdown",
   "metadata": {},
   "source": [
    "# Dictionary Specific Methods"
   ]
  },
  {
   "cell_type": "markdown",
   "metadata": {},
   "source": [
    "- clear() -> Deletes all Dictionary elements (similar to what we learned in lists)"
   ]
  },
  {
   "cell_type": "code",
   "execution_count": 11,
   "metadata": {},
   "outputs": [
    {
     "name": "stdout",
     "output_type": "stream",
     "text": [
      "{}\n"
     ]
    }
   ],
   "source": [
    "sales_month = {'jan': 150, 'fev': 100, 'mar': 190}\n",
    "sales_month.clear()\n",
    "print(sales_month)"
   ]
  },
  {
   "cell_type": "markdown",
   "metadata": {},
   "source": [
    "- copy() -> Creates a copy of the dictionary (similar to what we learn in lists)"
   ]
  },
  {
   "cell_type": "code",
   "execution_count": 12,
   "metadata": {},
   "outputs": [
    {
     "name": "stdout",
     "output_type": "stream",
     "text": [
      "{'jan': 150, 'fev': 100, 'mar': 190}\n"
     ]
    }
   ],
   "source": [
    "sales_month = {'jan': 150, 'fev': 100, 'mar': 190}\n",
    "sales2_month = sales_month.copy()\n",
    "print(sales2_month)"
   ]
  },
  {
   "cell_type": "markdown",
   "metadata": {},
   "source": [
    "- fromkeys(keys, value_standard) -> Create a dictionary with the keys and the same default value for all keys"
   ]
  },
  {
   "cell_type": "code",
   "execution_count": 1,
   "metadata": {},
   "outputs": [
    {
     "name": "stdout",
     "output_type": "stream",
     "text": [
      "{'jan': 100, 'fev': 100, 'mar': 100}\n"
     ]
    }
   ],
   "source": [
    "keys = ('jan', 'fev', 'mar')\n",
    "sales = 100\n",
    "sales_month = dict.fromkeys(keys, sales)\n",
    "print(sales_month)"
   ]
  },
  {
   "cell_type": "markdown",
   "metadata": {},
   "source": [
    "- get(key) -> Returns the value specified by the key (Similar to doing dictionario[key]"
   ]
  },
  {
   "cell_type": "code",
   "execution_count": 4,
   "metadata": {},
   "outputs": [
    {
     "name": "stdout",
     "output_type": "stream",
     "text": [
      "190\n"
     ]
    }
   ],
   "source": [
    "sales_month = {'jan': 150, 'fev': 100, 'mar': 190}\n",
    "print(sales_month.get('mar'))"
   ]
  },
  {
   "cell_type": "markdown",
   "metadata": {},
   "source": [
    "- items() -> Returns a list where each item is a tuple with (key, value)"
   ]
  },
  {
   "cell_type": "code",
   "execution_count": 14,
   "metadata": {},
   "outputs": [
    {
     "name": "stdout",
     "output_type": "stream",
     "text": [
      "[('jan', 150), ('fev', 100), ('mar', 190)]\n"
     ]
    }
   ],
   "source": [
    "sales_month = {'jan': 150, 'fev': 100, 'mar': 190}\n",
    "print(list(sales_month.items()))"
   ]
  },
  {
   "cell_type": "markdown",
   "metadata": {},
   "source": [
    "- keys() -> Returns a list of all keys in the dictionary"
   ]
  },
  {
   "cell_type": "code",
   "execution_count": 15,
   "metadata": {},
   "outputs": [
    {
     "name": "stdout",
     "output_type": "stream",
     "text": [
      "['jan', 'fev', 'mar']\n"
     ]
    }
   ],
   "source": [
    "sales_month = {'jan': 150, 'fev': 100, 'mar': 190}\n",
    "print(list(sales_month.keys()))"
   ]
  },
  {
   "cell_type": "markdown",
   "metadata": {},
   "source": [
    "- pop(chave) -> Takes the item out of the dictionary and returns its value to be used"
   ]
  },
  {
   "cell_type": "code",
   "execution_count": 7,
   "metadata": {},
   "outputs": [
    {
     "name": "stdout",
     "output_type": "stream",
     "text": [
      "{'jan': 150, 'mar': 190}\n",
      "100\n"
     ]
    }
   ],
   "source": [
    "sales_month = {'jan': 150, 'fev': 100, 'mar': 190}\n",
    "sales_fev = sales_month.pop('fev') #removes February from the dictionary while storing its value in the variable\n",
    "print(sales_month)\n",
    "print(sales_fev)"
   ]
  },
  {
   "cell_type": "markdown",
   "metadata": {},
   "source": [
    "- popitem() -> Remove the last item added to the dictionary"
   ]
  },
  {
   "cell_type": "code",
   "execution_count": 9,
   "metadata": {},
   "outputs": [
    {
     "name": "stdout",
     "output_type": "stream",
     "text": [
      "{'jan': 150, 'fev': 100}\n",
      "('mar', 190)\n"
     ]
    }
   ],
   "source": [
    "sales_month = {'jan': 150, 'fev': 100, 'mar': 190}\n",
    "#removes the last item added in the dictionary while storing its item(key, value) in the variable\n",
    "sales_ult = sales_month.popitem() \n",
    "print(sales_month)\n",
    "print(sales_ult)"
   ]
  },
  {
   "cell_type": "markdown",
   "metadata": {},
   "source": [
    "- setdefault(key, value) -> Returns the value of the passed key, but if the key does not exist, creates the item in the dictionary with the passed key and value."
   ]
  },
  {
   "cell_type": "code",
   "execution_count": 10,
   "metadata": {},
   "outputs": [
    {
     "name": "stdout",
     "output_type": "stream",
     "text": [
      "100\n",
      "600\n",
      "{'jan': 150, 'fev': 100, 'mar': 190, 'abr': 600}\n"
     ]
    }
   ],
   "source": [
    "sales_month = {'jan': 150, 'fev': 100, 'mar': 190}\n",
    "sales_fev = sales_month.setdefault('fev', 500)\n",
    "print(sales_fev)\n",
    "#notice that as February exists in the list, it looks for the value of February and ignores the past 500\n",
    "#now when it doesn't exist in the list:\n",
    "sales_abr = sales_month.setdefault('abr', 600)\n",
    "#notice that now in addition to vendas_abr returning 600 as a value, it added an item in the dictionary\n",
    "print(sales_abr)\n",
    "print(sales_month)"
   ]
  },
  {
   "cell_type": "markdown",
   "metadata": {},
   "source": [
    "- update(dictionary) -> Adds the dictionary passed as a parameter to the original dictionary"
   ]
  },
  {
   "cell_type": "code",
   "execution_count": 18,
   "metadata": {},
   "outputs": [
    {
     "name": "stdout",
     "output_type": "stream",
     "text": [
      "{'jan': 150, 'fev': 100, 'mar': 190, 'abr': 400, 'mai': 600, 'jun': 500}\n"
     ]
    }
   ],
   "source": [
    "sales_month = {'jan': 150, 'fev': 100, 'mar': 190}\n",
    "sales_2tri = {'abr': 400, 'mai': 600, 'jun': 500}\n",
    "sales_month.update(sales_2tri)\n",
    "print(sales_month)"
   ]
  },
  {
   "cell_type": "markdown",
   "metadata": {},
   "source": [
    "- values() -> Returns a list of all dictionary values"
   ]
  },
  {
   "cell_type": "code",
   "execution_count": 16,
   "metadata": {},
   "outputs": [
    {
     "name": "stdout",
     "output_type": "stream",
     "text": [
      "[150, 100, 190]\n"
     ]
    }
   ],
   "source": [
    "sales_month = {'jan': 150, 'fev': 100, 'mar': 190}\n",
    "print(list(sales_month.values()))"
   ]
  }
 ],
 "metadata": {
  "kernelspec": {
   "display_name": "Python 3.10.4 64-bit",
   "language": "python",
   "name": "python3"
  },
  "language_info": {
   "codemirror_mode": {
    "name": "ipython",
    "version": 3
   },
   "file_extension": ".py",
   "mimetype": "text/x-python",
   "name": "python",
   "nbconvert_exporter": "python",
   "pygments_lexer": "ipython3",
   "version": "3.10.4"
  },
  "vscode": {
   "interpreter": {
    "hash": "396a487d0f9a1aeea6eec7e2661c1b70bd880358e710a503b71d50d0e4959784"
   }
  }
 },
 "nbformat": 4,
 "nbformat_minor": 4
}
