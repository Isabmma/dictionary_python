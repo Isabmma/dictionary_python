{
 "cells": [
  {
   "cell_type": "markdown",
   "metadata": {},
   "source": [
    "## 1. \"Less practical\" exercise to train dictionary manipulation\n",
    "\n",
    "This time, let's just practice dictionary manipulation. Transform the lists below into 1 single dictionary in the format:"
   ]
  },
  {
   "cell_type": "raw",
   "metadata": {},
   "source": [
    "dictionary = {\n",
    "    product: [sales2019, sales2020],\n",
    "    procust2: [sales2019, sales020],\n",
    "    product3: [sales2019, sales2020],\n",
    "    ...\n",
    "}"
   ]
  },
  {
   "cell_type": "markdown",
   "metadata": {},
   "source": [
    "- Although it seems \"less practical\" this is a procedure that we need to get used to doing, since some functions (theme of the next modules) need dictionaries to work and knowing how to transform lists into dictionaries (and vice versa) is a very useful skill\n",
    "\n",
    "Ps1: Remember the zip to join lists.<br>\n",
    "Ps2: Notice that each sales item is actually a list. So it's likely that you need to do this code in 2 steps"
   ]
  },
  {
   "cell_type": "code",
   "execution_count": null,
   "metadata": {},
   "outputs": [],
   "source": [
    "products = ['iphone', 'galaxy', 'ipad', 'tv', 'coffee machine', 'kindle', 'refrigerator', 'bodega', 'notebook dell', 'notebook hp', 'notebook asus', 'microsoft surface', 'webcam', 'speaker', 'microfone', 'camera canon']\n",
    "sales2019 = [558147,712350,573823,405252,718654,531580,973139,892292,422760,154753,887061,438508,237467,489705,328311,591120]\n",
    "sales2020 = [951642,244295,26964,787604,867660,78830,710331,646016,694913,539704,324831,667179,295633,725316,644622,994303]\n",
    "\n",
    "\n"
   ]
  }
 ],
 "metadata": {
  "kernelspec": {
   "display_name": "Python 3",
   "language": "python",
   "name": "python3"
  },
  "language_info": {
   "codemirror_mode": {
    "name": "ipython",
    "version": 3
   },
   "file_extension": ".py",
   "mimetype": "text/x-python",
   "name": "python",
   "nbconvert_exporter": "python",
   "pygments_lexer": "ipython3",
   "version": "3.8.3"
  }
 },
 "nbformat": 4,
 "nbformat_minor": 4
}
