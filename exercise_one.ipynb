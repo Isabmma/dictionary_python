{
 "cells": [
  {
   "cell_type": "markdown",
   "metadata": {},
   "source": [
    "## 1. \"Less practical\" exercise to train dictionary manipulation\n",
    "\n",
    "This time, let's just practice dictionary manipulation. Transform the lists below into 1 single dictionary in the format:"
   ]
  },
  {
   "cell_type": "raw",
   "metadata": {},
   "source": [
    "dictionary = {\n",
    "    product: (sales2019, sales2020),\n",
    "    procust2: (sales2019, sales020),\n",
    "    product3: (sales2019, sales2020),\n",
    "    ...\n",
    "}"
   ]
  },
  {
   "cell_type": "markdown",
   "metadata": {},
   "source": [
    "- Although it seems \"less practical\" this is a procedure that we need to get used to doing, since some functions (theme of the next modules) need dictionaries to work and knowing how to transform lists into dictionaries (and vice versa) is a very useful skill\n",
    "\n",
    "Ps1: Remember the zip to join lists.<br>\n",
    "Ps2: Notice that each sales item is actually a list. So it's likely that you need to do this code in 2 steps"
   ]
  },
  {
   "cell_type": "code",
   "execution_count": 10,
   "metadata": {},
   "outputs": [
    {
     "name": "stdout",
     "output_type": "stream",
     "text": [
      "{'iphone': (558147, 951642), 'galaxy': (712350, 244295), 'ipad': (573823, 26964), 'tv': (405252, 787604), 'coffee machine': (718654, 867660), 'kindle': (531580, 78830), 'refrigerator': (973139, 710331), 'bodega': (892292, 646016), 'notebook dell': (422760, 694913), 'notebook hp': (154753, 539704), 'notebook asus': (887061, 324831), 'microsoft surface': (438508, 667179), 'webcam': (237467, 295633), 'speaker': (489705, 725316), 'microfone': (328311, 644622), 'camera canon': (591120, 994303)}\n"
     ]
    }
   ],
   "source": [
    "products = ['iphone', 'galaxy', 'ipad', 'tv', 'coffee machine', 'kindle', 'refrigerator', 'bodega', 'notebook dell', 'notebook hp', 'notebook asus', 'microsoft surface', 'webcam', 'speaker', 'microfone', 'camera canon']\n",
    "sales2019 = [558147,712350,573823,405252,718654,531580,973139,892292,422760,154753,887061,438508,237467,489705,328311,591120]\n",
    "sales2020 = [951642,244295,26964,787604,867660,78830,710331,646016,694913,539704,324831,667179,295633,725316,644622,994303]\n",
    "\n",
    "dictionary = {}\n",
    "\n",
    "for i, product in enumerate(products):\n",
    "  sale = sales2019[i], sales2020[i]\n",
    "  dictionary[product] = sale\n",
    "\n",
    "print(dictionary)"
   ]
  },
  {
   "cell_type": "code",
   "execution_count": 9,
   "metadata": {},
   "outputs": [
    {
     "name": "stdout",
     "output_type": "stream",
     "text": [
      "{'iphone': (558147, 951642), 'galaxy': (712350, 244295), 'ipad': (573823, 26964), 'tv': (405252, 787604), 'coffee machine': (718654, 867660), 'kindle': (531580, 78830), 'refrigerator': (973139, 710331), 'bodega': (892292, 646016), 'notebook dell': (422760, 694913), 'notebook hp': (154753, 539704), 'notebook asus': (887061, 324831), 'microsoft surface': (438508, 667179), 'webcam': (237467, 295633), 'speaker': (489705, 725316), 'microfone': (328311, 644622), 'camera canon': (591120, 994303)}\n"
     ]
    }
   ],
   "source": [
    "products = ['iphone', 'galaxy', 'ipad', 'tv', 'coffee machine', 'kindle', 'refrigerator', 'bodega', 'notebook dell', 'notebook hp', 'notebook asus', 'microsoft surface', 'webcam', 'speaker', 'microfone', 'camera canon']\n",
    "sales2019 = [558147,712350,573823,405252,718654,531580,973139,892292,422760,154753,887061,438508,237467,489705,328311,591120]\n",
    "sales2020 = [951642,244295,26964,787604,867660,78830,710331,646016,694913,539704,324831,667179,295633,725316,644622,994303]\n",
    "\n",
    "# list to plot the list, zip to create a tupla combination\n",
    "sale = list(zip(sales2019, sales2020))\n",
    "# zip to create a tupla combination of two lists, and dict to create a dictionary\n",
    "dictionary = dict(zip(products, sale))\n",
    "print(dictionary)"
   ]
  }
 ],
 "metadata": {
  "kernelspec": {
   "display_name": "Python 3.10.4 64-bit",
   "language": "python",
   "name": "python3"
  },
  "language_info": {
   "codemirror_mode": {
    "name": "ipython",
    "version": 3
   },
   "file_extension": ".py",
   "mimetype": "text/x-python",
   "name": "python",
   "nbconvert_exporter": "python",
   "pygments_lexer": "ipython3",
   "version": "3.10.4"
  },
  "vscode": {
   "interpreter": {
    "hash": "396a487d0f9a1aeea6eec7e2661c1b70bd880358e710a503b71d50d0e4959784"
   }
  }
 },
 "nbformat": 4,
 "nbformat_minor": 4
}
